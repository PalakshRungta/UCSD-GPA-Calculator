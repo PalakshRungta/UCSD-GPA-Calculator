{
 "cells": [
  {
   "cell_type": "code",
   "execution_count": null,
   "metadata": {},
   "outputs": [],
   "source": [
    "from tabula import read_pdf\n",
    "import re\n",
    "from tika import parser\n",
    "import pandas as pd\n",
    "import numpy as np\n",
    "import pprint"
   ]
  },
  {
   "cell_type": "code",
   "execution_count": null,
   "metadata": {},
   "outputs": [],
   "source": [
    "academic_history = read_pdf(\"\",\n",
    "                            pages = 'all',\n",
    "                            multiple_tables = True,\n",
    "                            lattice=True) #path to transcript file"
   ]
  },
  {
   "cell_type": "code",
   "execution_count": null,
   "metadata": {},
   "outputs": [],
   "source": [
    "raw = parser.from_file('')#path to audit file\n",
    "degree_audit_string = raw['content']\n",
    "\n",
    "degree_audit_string_major = degree_audit_string[\n",
    "    degree_audit_string.find('Lower Division Requirements'):\n",
    "    degree_audit_string.find('48 Upper Division Unit Requirement')\n",
    "]\n",
    "\n",
    "degree_audit_string_major_and_minor = degree_audit_string_major + degree_audit_string[\n",
    "    degree_audit_string.find('MINOR REQUIREMENTS'):\n",
    "    degree_audit_string.find('WORK IN PROGRESS')\n",
    "]\n",
    "degree_audit_string_major_and_minor"
   ]
  },
  {
   "cell_type": "code",
   "execution_count": null,
   "metadata": {},
   "outputs": [],
   "source": [
    "academic_history[4]"
   ]
  },
  {
   "cell_type": "code",
   "execution_count": null,
   "metadata": {},
   "outputs": [],
   "source": [
    "list_of_correct_indicies = []\n",
    "\n",
    "for i in np.arange(len(academic_history)):\n",
    "        \n",
    "    if academic_history[i][0][0] == 'Subject':\n",
    "        list_of_correct_indicies.append(i)"
   ]
  },
  {
   "cell_type": "code",
   "execution_count": null,
   "metadata": {},
   "outputs": [],
   "source": [
    "list_of_correct_indicies"
   ]
  },
  {
   "cell_type": "code",
   "execution_count": null,
   "metadata": {},
   "outputs": [],
   "source": [
    "final_list = []\n",
    "\n",
    "for item in np.arange(len(list_of_correct_indicies)):\n",
    "    \n",
    "    final_list.append(academic_history[list_of_correct_indicies[item]])"
   ]
  },
  {
   "cell_type": "code",
   "execution_count": null,
   "metadata": {},
   "outputs": [],
   "source": [
    "print(final_list)"
   ]
  },
  {
   "cell_type": "code",
   "execution_count": null,
   "metadata": {},
   "outputs": [],
   "source": [
    "for i in np.arange(len(final_list)):\n",
    "    final_list[i].columns = final_list[i].iloc[0]\n",
    "    final_list[i] = final_list[i].iloc[1:]"
   ]
  },
  {
   "cell_type": "code",
   "execution_count": null,
   "metadata": {},
   "outputs": [],
   "source": [
    "final_list[1]"
   ]
  },
  {
   "cell_type": "code",
   "execution_count": null,
   "metadata": {},
   "outputs": [],
   "source": [
    "for item in final_list:\n",
    "    item[\"Course Code\"] = item[\"Subject\"].map(str) + \" \" + item[\"Course\"]"
   ]
  },
  {
   "cell_type": "code",
   "execution_count": null,
   "metadata": {},
   "outputs": [],
   "source": [
    "final_list[0]"
   ]
  },
  {
   "cell_type": "code",
   "execution_count": null,
   "metadata": {},
   "outputs": [],
   "source": [
    "list_of_courses_done = []\n",
    "\n",
    "for obj in final_list:\n",
    "    for item in (obj['Course Code']):\n",
    "        list_of_courses_done.append(item)\n",
    "\n",
    "for i in np.arange(len(final_list[-1]['Subject'])):\n",
    "    list_of_courses_done.append(final_list[-1]['UCSD\\rApprox'][i+1])\n",
    "\n",
    "#This line removes the nan elements\n",
    "list_of_courses_done = [x for x in list_of_courses_done if x == x]\n",
    "\n",
    "for i in np.arange(len(list_of_courses_done)):\n",
    "    list_of_courses_done[i] = list_of_courses_done[i].split('\\r')\n",
    "\n",
    "list_of_courses_done"
   ]
  },
  {
   "cell_type": "code",
   "execution_count": null,
   "metadata": {},
   "outputs": [],
   "source": [
    "flat_list = []\n",
    "for sublist in list_of_courses_done:\n",
    "    for item in sublist:\n",
    "        flat_list.append(item)\n",
    "\n",
    "#Overriding list_of_courses_done\n",
    "list_of_courses_done = flat_list\n",
    "list_of_courses_done"
   ]
  },
  {
   "cell_type": "code",
   "execution_count": null,
   "metadata": {},
   "outputs": [],
   "source": [
    "def hasNumbers(inputString):\n",
    "    return any(char.isdigit() for char in inputString)"
   ]
  },
  {
   "cell_type": "code",
   "execution_count": null,
   "metadata": {},
   "outputs": [],
   "source": [
    "courses_titles = 'MATH 180B,180C,189 COGS 102A,102B,102C,109,110,115,118A,118B,118C,118D,119'\n",
    "\n",
    "def course_title(string_course_names):\n",
    "        \n",
    "    final_courses = []\n",
    "    counter = ''\n",
    "        \n",
    "    for item in string_course_names.split():\n",
    "        item = (item.split(','))\n",
    "        \n",
    "        if item[0].isalpha() and len(item[0]) == 3 or len(item[0]) == 4:\n",
    "            counter = item[0]\n",
    "        \n",
    "        elif item[0].isalnum() and len(item[0]) < 5:\n",
    "            for obj in item:\n",
    "                final_courses.append(counter + \" \" + obj)\n",
    "    \n",
    "    return final_courses"
   ]
  },
  {
   "cell_type": "code",
   "execution_count": null,
   "metadata": {},
   "outputs": [],
   "source": [
    "degree_audit_major_courses = course_title(degree_audit_string_major)\n",
    "degree_audit_major_and_minor_courses = course_title(degree_audit_string_major_and_minor)\n",
    "print(degree_audit_major_and_minor_courses)"
   ]
  },
  {
   "cell_type": "code",
   "execution_count": null,
   "metadata": {},
   "outputs": [],
   "source": [
    "common_major_courses = list(set(list_of_courses_done).intersection(degree_audit_major_courses))\n",
    "common_major_and_minor_courses = list(set(list_of_courses_done).intersection(degree_audit_major_and_minor_courses))\n",
    "common_major_and_minor_courses"
   ]
  },
  {
   "cell_type": "code",
   "execution_count": null,
   "metadata": {},
   "outputs": [],
   "source": [
    "total_major_points = 0.0\n",
    "total_major_units = 0.0\n",
    "\n",
    "for item in final_list[0:-1]:\n",
    "    for i in np.arange(len(item['Course Code'])):\n",
    "        if item['Course Code'][i+1] in common_major_courses:\n",
    "            if type(item['Grade'][i+1]) == str:\n",
    "                \n",
    "                total_major_points += float(item['Points'][i+1])\n",
    "                total_major_units += float(item['Units'][i+1])\n",
    "\n",
    "total_major_and_minor_points = 0.0\n",
    "total_major_and_minor_units = 0.0\n",
    "\n",
    "for item in final_list[0:-1]:\n",
    "    for i in np.arange(len(item['Course Code'])):\n",
    "        if item['Course Code'][i+1] in common_major_and_minor_courses:\n",
    "            if type(item['Grade'][i+1]) == str:\n",
    "                \n",
    "                total_major_and_minor_points += float(item['Points'][i+1])\n",
    "                total_major_and_minor_units += float(item['Units'][i+1])\n"
   ]
  },
  {
   "cell_type": "code",
   "execution_count": null,
   "metadata": {},
   "outputs": [],
   "source": [
    "major_gpa = total_major_points/total_major_units\n",
    "major_and_minor_gpa = total_major_and_minor_points/total_major_and_minor_units\n",
    "print(\"Major GPA is: \" + str(major_gpa))\n",
    "print(\"Major and Minor GPA is: \" + str(major_and_minor_gpa))"
   ]
  },
  {
   "cell_type": "code",
   "execution_count": null,
   "metadata": {},
   "outputs": [],
   "source": []
  }
 ],
 "metadata": {
  "kernelspec": {
   "display_name": "Python 3",
   "language": "python",
   "name": "python3"
  },
  "language_info": {
   "codemirror_mode": {
    "name": "ipython",
    "version": 3
   },
   "file_extension": ".py",
   "mimetype": "text/x-python",
   "name": "python",
   "nbconvert_exporter": "python",
   "pygments_lexer": "ipython3",
   "version": "3.7.7"
  }
 },
 "nbformat": 4,
 "nbformat_minor": 2
}
